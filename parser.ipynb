{
 "cells": [
  {
   "cell_type": "code",
   "execution_count": 25,
   "id": "01a95f2e",
   "metadata": {},
   "outputs": [],
   "source": [
    "import requests  \n",
    "from bs4 import BeautifulSoup\n",
    "from datetime import datetime\n",
    "from time import sleep\n",
    "import pandas as pd\n",
    "import fake_useragent\n",
    "from fake_useragent import UserAgent\n",
    "import random\n",
    "from tqdm import tqdm"
   ]
  },
  {
   "cell_type": "markdown",
   "id": "3fd21c79",
   "metadata": {},
   "source": [
    "## Парсинг сайта ##"
   ]
  },
  {
   "cell_type": "code",
   "execution_count": 16,
   "id": "bd118148",
   "metadata": {},
   "outputs": [],
   "source": [
    "cars_data = pd.DataFrame()"
   ]
  },
  {
   "cell_type": "code",
   "execution_count": 27,
   "id": "1a0ac5b9",
   "metadata": {},
   "outputs": [
    {
     "name": "stderr",
     "output_type": "stream",
     "text": [
      "100%|██████████| 38/38 [03:44<00:00,  5.91s/it]\n",
      "100%|██████████| 38/38 [03:43<00:00,  5.88s/it]\n",
      "100%|██████████| 38/38 [03:45<00:00,  5.92s/it]\n",
      "100%|██████████| 38/38 [03:39<00:00,  5.79s/it]\n",
      "100%|██████████| 38/38 [04:01<00:00,  6.36s/it]\n",
      "100%|██████████| 38/38 [05:59<00:00,  9.46s/it]\n",
      "100%|██████████| 38/38 [03:45<00:00,  5.92s/it]\n",
      "100%|██████████| 38/38 [03:42<00:00,  5.86s/it]\n",
      "100%|██████████| 38/38 [03:40<00:00,  5.81s/it]\n",
      "100%|██████████| 38/38 [03:48<00:00,  6.02s/it]\n",
      "100%|██████████| 38/38 [03:44<00:00,  5.90s/it]\n",
      "100%|██████████| 38/38 [03:41<00:00,  5.82s/it]\n",
      "100%|██████████| 38/38 [04:05<00:00,  6.46s/it]\n",
      "100%|██████████| 38/38 [03:42<00:00,  5.87s/it]\n",
      "100%|██████████| 38/38 [03:41<00:00,  5.83s/it]\n",
      "100%|██████████| 38/38 [03:45<00:00,  5.93s/it]\n",
      "100%|██████████| 38/38 [03:41<00:00,  5.84s/it]\n",
      "100%|██████████| 38/38 [03:55<00:00,  6.20s/it]\n",
      "100%|██████████| 38/38 [03:55<00:00,  6.20s/it]\n",
      "100%|██████████| 38/38 [03:43<00:00,  5.88s/it]\n"
     ]
    }
   ],
   "source": [
    "for page in range(1, 21): # Задаем число просматриваемых страниц с объявлениями\n",
    "    url = f'https://auto.ru/moskva/cars/used/?page={page}'\n",
    "    response = requests.get(url, headers={'User-Agent': UserAgent().chrome})\n",
    "    content = BeautifulSoup(response.content, 'html.parser')\n",
    "    cars = content.find_all('div', {'class': 'ListingItem-module__description'})\n",
    "    sleep(4.5 + random.random()) # Бездействуем, чтобы нас не забанили\n",
    "    for car in tqdm(cars):\n",
    "        try:\n",
    "            car_info = dict() # Формирем словарь и информацией об автомобиле\n",
    "            car_link = car.find('a', { 'class': ['Link', 'ListingItemTitle-module__link']}).get('href')\n",
    "            response = requests.get(car_link, headers={'User-Agent': UserAgent().chrome})\n",
    "            content = BeautifulSoup(response.content, 'html.parser')\n",
    "            car_info['Link'] = car_link\n",
    "            table = content.find_all('li', { 'class': 'CardInfoRow' })\n",
    "            car_info['Title'] = content.find('h1').text.replace('\\xa0', ' ')\n",
    "            car_info['Price'] = content.find('span', 'OfferPriceCaption__price').text.replace('\\xa0', ' ')\n",
    "            car_info['Mark'] = content.find('div', {'class': ['InfoPopup','InfoPopup_theme_plain','InfoPopup_withChildren','BreadcrumbsPopup-module__BreadcrumbsPopup']}).find('a', { 'class': ['Link','Link_color_gray','CardBreadcrumbs__itemText']}).text.replace('\\xa0', ' ')\n",
    "            car_info['Placement_date'] = content.find('div', { 'class' : ['lgkqdBtNZnmDcmU0rHpEj__info-item']}).text.replace('\\xa0', ' ')\n",
    "            car_info['Views'] = content.find('div', { 'class' : ['lgkqdBtNZnmDcmU0rHpEj__info-item','lgkqdBtNZnmDcmU0rHpEj__views'], 'title' : 'Количество просмотров'}).text.replace('\\xa0', ' ')\n",
    "            for raw in table: \n",
    "                car_info[raw.find_all('span')[0].text] = raw.find_all('span')[1].text.replace('\\xa0', ' ')\n",
    "            sleep(4.5 + random.random())\n",
    "            cars_data = cars_data.append(car_info, ignore_index=True) # Добавляем информацию об авто в датафрейм\n",
    "        except:\n",
    "            sleep(4.5 + random.random())\n",
    "            continue"
   ]
  },
  {
   "cell_type": "code",
   "execution_count": 32,
   "id": "0bdff27f",
   "metadata": {},
   "outputs": [
    {
     "data": {
      "text/plain": [
       "(0, 0)"
      ]
     },
     "execution_count": 32,
     "metadata": {},
     "output_type": "execute_result"
    }
   ],
   "source": [
    "cars_data.shape # Смотрим на число автомобилей и признаков"
   ]
  },
  {
   "cell_type": "code",
   "execution_count": 33,
   "id": "4d0ee120",
   "metadata": {},
   "outputs": [],
   "source": [
    "cars_data.to_csv('cars_data.csv', index=False, sep='\\t') # На всякий пожарный сохраняем в файл"
   ]
  },
  {
   "cell_type": "markdown",
   "id": "6bcc479c",
   "metadata": {},
   "source": [
    "## Обработка данных ##"
   ]
  },
  {
   "cell_type": "code",
   "execution_count": 34,
   "id": "873b13b7",
   "metadata": {},
   "outputs": [
    {
     "ename": "EmptyDataError",
     "evalue": "No columns to parse from file",
     "output_type": "error",
     "traceback": [
      "\u001b[0;31m---------------------------------------------------------------------------\u001b[0m",
      "\u001b[0;31mEmptyDataError\u001b[0m                            Traceback (most recent call last)",
      "\u001b[0;32m<ipython-input-34-5ec175189299>\u001b[0m in \u001b[0;36m<module>\u001b[0;34m\u001b[0m\n\u001b[0;32m----> 1\u001b[0;31m \u001b[0mcars_data1\u001b[0m \u001b[0;34m=\u001b[0m \u001b[0mpd\u001b[0m\u001b[0;34m.\u001b[0m\u001b[0mread_csv\u001b[0m\u001b[0;34m(\u001b[0m\u001b[0;34m'cars_data.csv'\u001b[0m\u001b[0;34m,\u001b[0m\u001b[0mdelimiter\u001b[0m\u001b[0;34m=\u001b[0m\u001b[0;34m'\\t'\u001b[0m\u001b[0;34m)\u001b[0m\u001b[0;34m\u001b[0m\u001b[0;34m\u001b[0m\u001b[0m\n\u001b[0m\u001b[1;32m      2\u001b[0m \u001b[0mcars_data1\u001b[0m\u001b[0;34m.\u001b[0m\u001b[0mhead\u001b[0m\u001b[0;34m(\u001b[0m\u001b[0;36m2\u001b[0m\u001b[0;34m)\u001b[0m\u001b[0;34m\u001b[0m\u001b[0;34m\u001b[0m\u001b[0m\n",
      "\u001b[0;32m~/opt/anaconda3/lib/python3.8/site-packages/pandas/io/parsers.py\u001b[0m in \u001b[0;36mread_csv\u001b[0;34m(filepath_or_buffer, sep, delimiter, header, names, index_col, usecols, squeeze, prefix, mangle_dupe_cols, dtype, engine, converters, true_values, false_values, skipinitialspace, skiprows, skipfooter, nrows, na_values, keep_default_na, na_filter, verbose, skip_blank_lines, parse_dates, infer_datetime_format, keep_date_col, date_parser, dayfirst, cache_dates, iterator, chunksize, compression, thousands, decimal, lineterminator, quotechar, quoting, doublequote, escapechar, comment, encoding, dialect, error_bad_lines, warn_bad_lines, delim_whitespace, low_memory, memory_map, float_precision, storage_options)\u001b[0m\n\u001b[1;32m    608\u001b[0m     \u001b[0mkwds\u001b[0m\u001b[0;34m.\u001b[0m\u001b[0mupdate\u001b[0m\u001b[0;34m(\u001b[0m\u001b[0mkwds_defaults\u001b[0m\u001b[0;34m)\u001b[0m\u001b[0;34m\u001b[0m\u001b[0;34m\u001b[0m\u001b[0m\n\u001b[1;32m    609\u001b[0m \u001b[0;34m\u001b[0m\u001b[0m\n\u001b[0;32m--> 610\u001b[0;31m     \u001b[0;32mreturn\u001b[0m \u001b[0m_read\u001b[0m\u001b[0;34m(\u001b[0m\u001b[0mfilepath_or_buffer\u001b[0m\u001b[0;34m,\u001b[0m \u001b[0mkwds\u001b[0m\u001b[0;34m)\u001b[0m\u001b[0;34m\u001b[0m\u001b[0;34m\u001b[0m\u001b[0m\n\u001b[0m\u001b[1;32m    611\u001b[0m \u001b[0;34m\u001b[0m\u001b[0m\n\u001b[1;32m    612\u001b[0m \u001b[0;34m\u001b[0m\u001b[0m\n",
      "\u001b[0;32m~/opt/anaconda3/lib/python3.8/site-packages/pandas/io/parsers.py\u001b[0m in \u001b[0;36m_read\u001b[0;34m(filepath_or_buffer, kwds)\u001b[0m\n\u001b[1;32m    460\u001b[0m \u001b[0;34m\u001b[0m\u001b[0m\n\u001b[1;32m    461\u001b[0m     \u001b[0;31m# Create the parser.\u001b[0m\u001b[0;34m\u001b[0m\u001b[0;34m\u001b[0m\u001b[0;34m\u001b[0m\u001b[0m\n\u001b[0;32m--> 462\u001b[0;31m     \u001b[0mparser\u001b[0m \u001b[0;34m=\u001b[0m \u001b[0mTextFileReader\u001b[0m\u001b[0;34m(\u001b[0m\u001b[0mfilepath_or_buffer\u001b[0m\u001b[0;34m,\u001b[0m \u001b[0;34m**\u001b[0m\u001b[0mkwds\u001b[0m\u001b[0;34m)\u001b[0m\u001b[0;34m\u001b[0m\u001b[0;34m\u001b[0m\u001b[0m\n\u001b[0m\u001b[1;32m    463\u001b[0m \u001b[0;34m\u001b[0m\u001b[0m\n\u001b[1;32m    464\u001b[0m     \u001b[0;32mif\u001b[0m \u001b[0mchunksize\u001b[0m \u001b[0;32mor\u001b[0m \u001b[0miterator\u001b[0m\u001b[0;34m:\u001b[0m\u001b[0;34m\u001b[0m\u001b[0;34m\u001b[0m\u001b[0m\n",
      "\u001b[0;32m~/opt/anaconda3/lib/python3.8/site-packages/pandas/io/parsers.py\u001b[0m in \u001b[0;36m__init__\u001b[0;34m(self, f, engine, **kwds)\u001b[0m\n\u001b[1;32m    817\u001b[0m             \u001b[0mself\u001b[0m\u001b[0;34m.\u001b[0m\u001b[0moptions\u001b[0m\u001b[0;34m[\u001b[0m\u001b[0;34m\"has_index_names\"\u001b[0m\u001b[0;34m]\u001b[0m \u001b[0;34m=\u001b[0m \u001b[0mkwds\u001b[0m\u001b[0;34m[\u001b[0m\u001b[0;34m\"has_index_names\"\u001b[0m\u001b[0;34m]\u001b[0m\u001b[0;34m\u001b[0m\u001b[0;34m\u001b[0m\u001b[0m\n\u001b[1;32m    818\u001b[0m \u001b[0;34m\u001b[0m\u001b[0m\n\u001b[0;32m--> 819\u001b[0;31m         \u001b[0mself\u001b[0m\u001b[0;34m.\u001b[0m\u001b[0m_engine\u001b[0m \u001b[0;34m=\u001b[0m \u001b[0mself\u001b[0m\u001b[0;34m.\u001b[0m\u001b[0m_make_engine\u001b[0m\u001b[0;34m(\u001b[0m\u001b[0mself\u001b[0m\u001b[0;34m.\u001b[0m\u001b[0mengine\u001b[0m\u001b[0;34m)\u001b[0m\u001b[0;34m\u001b[0m\u001b[0;34m\u001b[0m\u001b[0m\n\u001b[0m\u001b[1;32m    820\u001b[0m \u001b[0;34m\u001b[0m\u001b[0m\n\u001b[1;32m    821\u001b[0m     \u001b[0;32mdef\u001b[0m \u001b[0mclose\u001b[0m\u001b[0;34m(\u001b[0m\u001b[0mself\u001b[0m\u001b[0;34m)\u001b[0m\u001b[0;34m:\u001b[0m\u001b[0;34m\u001b[0m\u001b[0;34m\u001b[0m\u001b[0m\n",
      "\u001b[0;32m~/opt/anaconda3/lib/python3.8/site-packages/pandas/io/parsers.py\u001b[0m in \u001b[0;36m_make_engine\u001b[0;34m(self, engine)\u001b[0m\n\u001b[1;32m   1048\u001b[0m             )\n\u001b[1;32m   1049\u001b[0m         \u001b[0;31m# error: Too many arguments for \"ParserBase\"\u001b[0m\u001b[0;34m\u001b[0m\u001b[0;34m\u001b[0m\u001b[0;34m\u001b[0m\u001b[0m\n\u001b[0;32m-> 1050\u001b[0;31m         \u001b[0;32mreturn\u001b[0m \u001b[0mmapping\u001b[0m\u001b[0;34m[\u001b[0m\u001b[0mengine\u001b[0m\u001b[0;34m]\u001b[0m\u001b[0;34m(\u001b[0m\u001b[0mself\u001b[0m\u001b[0;34m.\u001b[0m\u001b[0mf\u001b[0m\u001b[0;34m,\u001b[0m \u001b[0;34m**\u001b[0m\u001b[0mself\u001b[0m\u001b[0;34m.\u001b[0m\u001b[0moptions\u001b[0m\u001b[0;34m)\u001b[0m  \u001b[0;31m# type: ignore[call-arg]\u001b[0m\u001b[0;34m\u001b[0m\u001b[0;34m\u001b[0m\u001b[0m\n\u001b[0m\u001b[1;32m   1051\u001b[0m \u001b[0;34m\u001b[0m\u001b[0m\n\u001b[1;32m   1052\u001b[0m     \u001b[0;32mdef\u001b[0m \u001b[0m_failover_to_python\u001b[0m\u001b[0;34m(\u001b[0m\u001b[0mself\u001b[0m\u001b[0;34m)\u001b[0m\u001b[0;34m:\u001b[0m\u001b[0;34m\u001b[0m\u001b[0;34m\u001b[0m\u001b[0m\n",
      "\u001b[0;32m~/opt/anaconda3/lib/python3.8/site-packages/pandas/io/parsers.py\u001b[0m in \u001b[0;36m__init__\u001b[0;34m(self, src, **kwds)\u001b[0m\n\u001b[1;32m   1896\u001b[0m \u001b[0;34m\u001b[0m\u001b[0m\n\u001b[1;32m   1897\u001b[0m         \u001b[0;32mtry\u001b[0m\u001b[0;34m:\u001b[0m\u001b[0;34m\u001b[0m\u001b[0;34m\u001b[0m\u001b[0m\n\u001b[0;32m-> 1898\u001b[0;31m             \u001b[0mself\u001b[0m\u001b[0;34m.\u001b[0m\u001b[0m_reader\u001b[0m \u001b[0;34m=\u001b[0m \u001b[0mparsers\u001b[0m\u001b[0;34m.\u001b[0m\u001b[0mTextReader\u001b[0m\u001b[0;34m(\u001b[0m\u001b[0mself\u001b[0m\u001b[0;34m.\u001b[0m\u001b[0mhandles\u001b[0m\u001b[0;34m.\u001b[0m\u001b[0mhandle\u001b[0m\u001b[0;34m,\u001b[0m \u001b[0;34m**\u001b[0m\u001b[0mkwds\u001b[0m\u001b[0;34m)\u001b[0m\u001b[0;34m\u001b[0m\u001b[0;34m\u001b[0m\u001b[0m\n\u001b[0m\u001b[1;32m   1899\u001b[0m         \u001b[0;32mexcept\u001b[0m \u001b[0mException\u001b[0m\u001b[0;34m:\u001b[0m\u001b[0;34m\u001b[0m\u001b[0;34m\u001b[0m\u001b[0m\n\u001b[1;32m   1900\u001b[0m             \u001b[0mself\u001b[0m\u001b[0;34m.\u001b[0m\u001b[0mhandles\u001b[0m\u001b[0;34m.\u001b[0m\u001b[0mclose\u001b[0m\u001b[0;34m(\u001b[0m\u001b[0;34m)\u001b[0m\u001b[0;34m\u001b[0m\u001b[0;34m\u001b[0m\u001b[0m\n",
      "\u001b[0;32mpandas/_libs/parsers.pyx\u001b[0m in \u001b[0;36mpandas._libs.parsers.TextReader.__cinit__\u001b[0;34m()\u001b[0m\n",
      "\u001b[0;31mEmptyDataError\u001b[0m: No columns to parse from file"
     ]
    }
   ],
   "source": [
    "cars_data1 = pd.read_csv('cars_data.csv',delimiter='\\t') \n",
    "cars_data1.head(2)"
   ]
  },
  {
   "cell_type": "markdown",
   "id": "e88c37cb",
   "metadata": {},
   "source": [
    "Смотрим в каких столбцах есть пропуски"
   ]
  },
  {
   "cell_type": "code",
   "execution_count": null,
   "id": "9a57b70d",
   "metadata": {},
   "outputs": [],
   "source": [
    "cars_data1.isna().sum()"
   ]
  },
  {
   "cell_type": "markdown",
   "id": "275891fd",
   "metadata": {},
   "source": [
    "Удаляем столбцы, в которых слишком много пропусков"
   ]
  },
  {
   "cell_type": "code",
   "execution_count": null,
   "id": "2007f0f1",
   "metadata": {},
   "outputs": [],
   "source": [
    "drop_list = list() \n",
    "for i in range(len(cars_data1.isna().sum().values)):\n",
    "    if cars_data1.isna().sum().values[i] / cars_data1.shape[0] > 0.7:\n",
    "        drop_list.append(cars_data1.isna().sum().index[i])\n",
    "cars_data1.drop(columns=drop_list, inplace=True)\n",
    "drop_list"
   ]
  },
  {
   "cell_type": "markdown",
   "id": "13a7b6b6",
   "metadata": {},
   "source": [
    "Корректируем столбцы, где хранятся числовые данные"
   ]
  },
  {
   "cell_type": "code",
   "execution_count": null,
   "id": "e3e98d1d",
   "metadata": {},
   "outputs": [],
   "source": [
    "def money_correcter(raw):\n",
    "    try:\n",
    "        raw = raw.replace(' ', '')\n",
    "        raw = raw[:raw.find('₽')]\n",
    "        return raw\n",
    "    except:\n",
    "        return raw\n",
    "\n",
    "def probeg_correcter(raw):\n",
    "    try:\n",
    "        raw = raw.replace(' ', '')\n",
    "        raw = raw[:raw.find('км')]\n",
    "        return raw\n",
    "    except:\n",
    "        return raw"
   ]
  },
  {
   "cell_type": "code",
   "execution_count": null,
   "id": "a23e5d2d",
   "metadata": {},
   "outputs": [],
   "source": [
    "cars_data1['Налог'] = cars_data1['Налог'].apply(money_correcter)\n",
    "cars_data1['Price'] = cars_data1['Price'].apply(money_correcter)\n",
    "cars_data1['Пробег'] = cars_data1['Пробег'].apply(probeg_correcter)"
   ]
  },
  {
   "cell_type": "code",
   "execution_count": null,
   "id": "a5bf29cf",
   "metadata": {},
   "outputs": [],
   "source": [
    "cars_data1['Налог'] = pd.to_numeric(cars_data1['Налог'])\n",
    "cars_data1['Price'] = pd.to_numeric(cars_data1['Price'])\n",
    "cars_data1['год выпуска'] = pd.to_numeric(cars_data1['год выпуска'])\n",
    "cars_data1['Пробег'] = pd.to_numeric(cars_data1['Пробег'])"
   ]
  },
  {
   "cell_type": "markdown",
   "id": "9c42c9cc",
   "metadata": {},
   "source": [
    "Оставшиеся пропуски заполняем\n",
    "\n",
    "Вин заменим пустыми строками"
   ]
  },
  {
   "cell_type": "code",
   "execution_count": null,
   "id": "85a13dda",
   "metadata": {},
   "outputs": [],
   "source": [
    "cars_data1['VIN'] = cars_data1['VIN'].fillna('')"
   ]
  },
  {
   "cell_type": "markdown",
   "id": "d61d731b",
   "metadata": {},
   "source": [
    "Налог на среднее значение"
   ]
  },
  {
   "cell_type": "code",
   "execution_count": null,
   "id": "0f5984bd",
   "metadata": {},
   "outputs": [],
   "source": [
    "cars_data1['Налог'] = cars_data1['Налог'].fillna(cars_data1['Налог'].mean())"
   ]
  },
  {
   "cell_type": "markdown",
   "id": "18f656d1",
   "metadata": {},
   "source": [
    "Обмен на самое частовстречаемое значение"
   ]
  },
  {
   "cell_type": "code",
   "execution_count": null,
   "id": "551fd172",
   "metadata": {},
   "outputs": [],
   "source": [
    "cars_data1[\"Обмен\"].fillna(cars_data1['Обмен'].value_counts().index[0], inplace = True)"
   ]
  },
  {
   "cell_type": "markdown",
   "id": "6f4c814c",
   "metadata": {},
   "source": [
    "Пропусков стало меньше"
   ]
  },
  {
   "cell_type": "code",
   "execution_count": null,
   "id": "e5f4a151",
   "metadata": {},
   "outputs": [],
   "source": [
    "cars_data1.isna().sum()"
   ]
  },
  {
   "cell_type": "markdown",
   "id": "1e675b69",
   "metadata": {},
   "source": [
    "## Новые признаки ##"
   ]
  },
  {
   "cell_type": "code",
   "execution_count": null,
   "id": "68a65fd8",
   "metadata": {},
   "outputs": [],
   "source": [
    "def age_definer(car_year):\n",
    "    current_year = datetime.now().timetuple()[0]\n",
    "    if current_year - car_year < 3:\n",
    "        return 'Новая'\n",
    "    if current_year - car_year < 6:\n",
    "        return 'Средняя'\n",
    "    else:\n",
    "        return 'Старая'\n",
    "\n",
    "def km_per_year(car_year, car_mileage):\n",
    "    try:\n",
    "        current_year = datetime.now().timetuple()[0]\n",
    "        return car_mileage // (current_year - car_year + 1)\n",
    "    except:\n",
    "        return None\n",
    "\n",
    "def total_views_definer(raw):\n",
    "    try:\n",
    "        return raw[:raw.find(' ')]\n",
    "    except:\n",
    "        return None"
   ]
  },
  {
   "cell_type": "markdown",
   "id": "32854de4",
   "metadata": {},
   "source": [
    "Присваиваем категории возраста для автомобиля"
   ]
  },
  {
   "cell_type": "code",
   "execution_count": null,
   "id": "4596d4be",
   "metadata": {},
   "outputs": [],
   "source": [
    "cars_data1['Возраст'] = cars_data1['год выпуска'].apply(age_definer)\n",
    "cars_data1['Возраст'][:6]"
   ]
  },
  {
   "cell_type": "markdown",
   "id": "ef0b2439",
   "metadata": {},
   "source": [
    "Присваем категорию сколько автомобиль ездил в среднем за год своего существования"
   ]
  },
  {
   "cell_type": "code",
   "execution_count": null,
   "id": "4cc73c88",
   "metadata": {},
   "outputs": [],
   "source": [
    "cars_data1['Пробег за год'] = cars_data1[['год выпуска','Пробег']].apply(lambda x: km_per_year(*x), axis=1)\n",
    "cars_data1['Пробег за год'][:6]"
   ]
  },
  {
   "cell_type": "markdown",
   "id": "c8c87014",
   "metadata": {},
   "source": [
    "Делаем категорию с общим числов просмотров автомобиля (до этого в столбце было строка вида *435 (116 сегодня)*)"
   ]
  },
  {
   "cell_type": "code",
   "execution_count": null,
   "id": "7ada1ef4",
   "metadata": {},
   "outputs": [],
   "source": [
    "cars_data1['Total views'] = pd.to_numeric(cars_data1['Views'].apply(total_views_definer))\n",
    "cars_data1['Total views'][:6]"
   ]
  },
  {
   "cell_type": "markdown",
   "id": "9e131a7e",
   "metadata": {},
   "source": [
    "## Графики ##"
   ]
  },
  {
   "cell_type": "code",
   "execution_count": null,
   "id": "f9a4c68b",
   "metadata": {},
   "outputs": [],
   "source": [
    "import matplotlib\n",
    "import matplotlib.pyplot as plt\n",
    "import numpy as np"
   ]
  },
  {
   "cell_type": "markdown",
   "id": "d3f186fb",
   "metadata": {},
   "source": [
    "Сделаем график распределения машин по возрастным категориям в рамках фирмы. \n",
    "Построим для топ 3 фирм по числу объявлений, чтобы не нагромождать график."
   ]
  },
  {
   "cell_type": "code",
   "execution_count": null,
   "id": "4dc7d1cb",
   "metadata": {},
   "outputs": [],
   "source": [
    "def autolabel(rects):\n",
    "    for rect in rects:\n",
    "        height = rect.get_height()\n",
    "        ax.annotate('{}'.format(height),\n",
    "                    xy=(rect.get_x() + rect.get_width() / 2, height),\n",
    "                    xytext=(0, 3),\n",
    "                    textcoords=\"offset points\",\n",
    "                    ha='center', va='bottom')"
   ]
  },
  {
   "cell_type": "code",
   "execution_count": null,
   "id": "23efabff",
   "metadata": {},
   "outputs": [],
   "source": [
    "ser = cars_data1['Mark'].value_counts()\n",
    "mark_list = ser.iloc[:3].index.tolist()\n",
    "grouped_data = cars_data1[cars_data1['Mark'].isin(mark_list)].groupby(['Mark', 'Возраст']).size()\n",
    "\n",
    "all_marks = grouped_data.to_frame().reset_index()\n",
    "first_mark = all_marks[all_marks['Mark'] == ser.iloc[:3].index.tolist()[0]]\n",
    "second_mark = all_marks[all_marks['Mark'] == ser.iloc[:3].index.tolist()[1]]\n",
    "third_mark = all_marks[all_marks['Mark'] == ser.iloc[:3].index.tolist()[2]]\n",
    "\n",
    "first_name = first_mark['Mark'].values[0]\n",
    "second_name = second_mark['Mark'].values[0]\n",
    "third_name = third_mark['Mark'].values[0]\n",
    "\n",
    "labels = first_mark['Возраст'].tolist()\n",
    "\n",
    "first_mark = first_mark[0].tolist()\n",
    "second_mark = second_mark[0].tolist()\n",
    "third_mark = third_mark[0].tolist()\n",
    "\n",
    "\n",
    "x = np.arange(len(labels))\n",
    "width = 0.2 \n",
    "\n",
    "fig, ax = plt.subplots()\n",
    "rects1 = ax.bar(x - width, first_mark, width, label=first_name)\n",
    "rects2 = ax.bar(x, second_mark, width, label=second_name)\n",
    "rects3 = ax.bar(x + width, third_mark, width, label=third_name)\n",
    "\n",
    "ax.set_ylabel('Количество машин')\n",
    "ax.set_title('Количество машин в разных возрастных категориях')\n",
    "ax.set_xticks(x)\n",
    "ax.set_xticklabels(labels)\n",
    "ax.legend()\n",
    "\n",
    "autolabel(rects1)\n",
    "autolabel(rects2)\n",
    "autolabel(rects3)\n",
    "\n",
    "fig.tight_layout()\n",
    "\n",
    "plt.show()"
   ]
  },
  {
   "cell_type": "markdown",
   "id": "99419f44",
   "metadata": {},
   "source": [
    "Посмотрим, какую долю объвлений занимает каждая фирма автомобилей. \n",
    "Подпишем в процентном соотношении, предварительно удалив те, у которых доля объявлений меньше 3% от общего числа, чтобы не нагромождать график"
   ]
  },
  {
   "cell_type": "code",
   "execution_count": null,
   "id": "152bc769",
   "metadata": {},
   "outputs": [],
   "source": [
    "cars_data1['Mark'].value_counts().loc[lambda ser: ser / cars_data1.shape[0] > 0.03].plot.pie(label=\"\", title=\"Соотношение продаваемых машин по маркам\", autopct='%.2f', figsize=(6, 6));"
   ]
  },
  {
   "cell_type": "markdown",
   "id": "bf09d405",
   "metadata": {},
   "source": [
    "## Группировки"
   ]
  },
  {
   "cell_type": "markdown",
   "id": "a0b7c781",
   "metadata": {},
   "source": [
    "Распределение по возрастным категориям для топ 5 фирм по числу объявлений, чтобы не нагромождать вывод"
   ]
  },
  {
   "cell_type": "code",
   "execution_count": null,
   "id": "4422098a",
   "metadata": {},
   "outputs": [],
   "source": [
    "ser = cars_data1['Mark'].value_counts()\n",
    "mark_list = ser.iloc[:5].index.tolist()\n",
    "grouped_data = cars_data1[cars_data1['Mark'].isin(mark_list)].groupby(['Mark', 'Возраст']).size()\n",
    "grouped_data"
   ]
  },
  {
   "cell_type": "markdown",
   "id": "c08d0747",
   "metadata": {},
   "source": [
    "Посмотрим информацию по пробегу за год для всех автомобилей"
   ]
  },
  {
   "cell_type": "code",
   "execution_count": null,
   "id": "179520af",
   "metadata": {},
   "outputs": [],
   "source": [
    "cars_data1['Пробег за год'].describe()"
   ]
  },
  {
   "cell_type": "markdown",
   "id": "fd10c14c",
   "metadata": {},
   "source": [
    "Посмотрим зависимость пробега машины от числа ее владельцев"
   ]
  },
  {
   "cell_type": "code",
   "execution_count": null,
   "id": "15948488",
   "metadata": {},
   "outputs": [],
   "source": [
    "cars_data1.groupby(['Владельцы']).mean()['Пробег']"
   ]
  },
  {
   "cell_type": "markdown",
   "id": "bd813e60",
   "metadata": {},
   "source": [
    "Как видно, чем больше владельцев было у машины, тем больше ее пробег"
   ]
  },
  {
   "cell_type": "markdown",
   "id": "d52249fd",
   "metadata": {},
   "source": [
    "Посмотрим на зависимости состояния машины от числа ее владельцев"
   ]
  },
  {
   "cell_type": "code",
   "execution_count": null,
   "id": "49ce8945",
   "metadata": {},
   "outputs": [],
   "source": [
    "cars_data1.groupby(['Владельцы', 'Состояние']).size()"
   ]
  },
  {
   "cell_type": "markdown",
   "id": "2da44f89",
   "metadata": {},
   "source": [
    "Эти данные ничего нам не дали"
   ]
  },
  {
   "cell_type": "markdown",
   "id": "cee460bb",
   "metadata": {},
   "source": [
    "Посмотрим на общее число просмотров объявлений в рамках фирмы. Вывели топ 5, чтобы не нагромождать вывод"
   ]
  },
  {
   "cell_type": "code",
   "execution_count": null,
   "id": "b4f6541f",
   "metadata": {},
   "outputs": [],
   "source": [
    "ser = cars_data1['Mark'].value_counts()\n",
    "mark_list = ser.iloc[:5].index.tolist()\n",
    "grouped_data = cars_data1[cars_data1['Mark'].isin(mark_list)].groupby(['Mark']).sum()['Total views'].sort_values(ascending=False)\n",
    "grouped_data"
   ]
  },
  {
   "cell_type": "markdown",
   "id": "16db1c1a",
   "metadata": {},
   "source": [
    "Как видно, мерседес сильно лидирует\n",
    "Посмотрим также в процентах"
   ]
  },
  {
   "cell_type": "code",
   "execution_count": null,
   "id": "bd0f43da",
   "metadata": {},
   "outputs": [],
   "source": [
    "grouped_data.to_frame()['Total views'] / grouped_data.sum() * 100"
   ]
  },
  {
   "cell_type": "markdown",
   "id": "cd990544",
   "metadata": {},
   "source": [
    "Как видно, более трети объявлений приходится на мерседес!"
   ]
  },
  {
   "cell_type": "code",
   "execution_count": null,
   "id": "04915f59",
   "metadata": {},
   "outputs": [],
   "source": []
  },
  {
   "cell_type": "code",
   "execution_count": null,
   "id": "ecdbe12a",
   "metadata": {},
   "outputs": [],
   "source": []
  },
  {
   "cell_type": "code",
   "execution_count": null,
   "id": "f1e15f55",
   "metadata": {},
   "outputs": [],
   "source": []
  },
  {
   "cell_type": "code",
   "execution_count": null,
   "id": "04028746",
   "metadata": {},
   "outputs": [],
   "source": []
  },
  {
   "cell_type": "code",
   "execution_count": null,
   "id": "72d4308f",
   "metadata": {},
   "outputs": [],
   "source": []
  }
 ],
 "metadata": {
  "kernelspec": {
   "display_name": "Python 3",
   "language": "python",
   "name": "python3"
  },
  "language_info": {
   "codemirror_mode": {
    "name": "ipython",
    "version": 3
   },
   "file_extension": ".py",
   "mimetype": "text/x-python",
   "name": "python",
   "nbconvert_exporter": "python",
   "pygments_lexer": "ipython3",
   "version": "3.8.8"
  }
 },
 "nbformat": 4,
 "nbformat_minor": 5
}
